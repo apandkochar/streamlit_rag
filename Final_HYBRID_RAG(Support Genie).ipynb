{
  "nbformat": 4,
  "nbformat_minor": 0,
  "metadata": {
    "colab": {
      "provenance": [],
      "gpuType": "T4"
    },
    "kernelspec": {
      "name": "python3",
      "display_name": "Python 3"
    },
    "language_info": {
      "name": "python"
    },
    "accelerator": "GPU"
  },
  "cells": [
    {
      "cell_type": "markdown",
      "source": [
        "# Hybrid-RAG"
      ],
      "metadata": {
        "id": "d0FP1MT6Fi-U"
      }
    },
    {
      "cell_type": "markdown",
      "source": [
        "# All Required Libearies"
      ],
      "metadata": {
        "id": "4hmQf5QPwMQY"
      }
    },
    {
      "cell_type": "markdown",
      "source": [
        "#### now 1st we will install all the required libraries"
      ],
      "metadata": {
        "id": "d8nLL60cFyPS"
      }
    },
    {
      "cell_type": "code",
      "execution_count": 1,
      "metadata": {
        "colab": {
          "base_uri": "https://localhost:8080/"
        },
        "id": "VXYFoqI4uQnA",
        "outputId": "159dd355-8cf7-441a-d3d0-94c53e4925a4",
        "collapsed": true
      },
      "outputs": [
        {
          "output_type": "stream",
          "name": "stdout",
          "text": [
            "\u001b[?25l   \u001b[90m━━━━━━━━━━━━━━━━━━━━━━━━━━━━━━━━━━━━━━━━\u001b[0m \u001b[32m0.0/427.3 kB\u001b[0m \u001b[31m?\u001b[0m eta \u001b[36m-:--:--\u001b[0m\r\u001b[2K   \u001b[90m━━━━━━━━━━━━━━━━━━━━━━━━━━━━━━━━━━━━━━━━\u001b[0m \u001b[32m427.3/427.3 kB\u001b[0m \u001b[31m15.1 MB/s\u001b[0m eta \u001b[36m0:00:00\u001b[0m\n",
            "\u001b[?25h\u001b[?25l   \u001b[90m━━━━━━━━━━━━━━━━━━━━━━━━━━━━━━━━━━━━━━━━\u001b[0m \u001b[32m0.0/216.4 kB\u001b[0m \u001b[31m?\u001b[0m eta \u001b[36m-:--:--\u001b[0m\r\u001b[2K   \u001b[90m━━━━━━━━━━━━━━━━━━━━━━━━━━━━━━━━━━━━━━━━\u001b[0m \u001b[32m216.4/216.4 kB\u001b[0m \u001b[31m19.7 MB/s\u001b[0m eta \u001b[36m0:00:00\u001b[0m\n",
            "\u001b[?25h\u001b[?25l   \u001b[90m━━━━━━━━━━━━━━━━━━━━━━━━━━━━━━━━━━━━━━━━\u001b[0m \u001b[32m0.0/1.2 MB\u001b[0m \u001b[31m?\u001b[0m eta \u001b[36m-:--:--\u001b[0m\r\u001b[2K   \u001b[90m━━━━━━━━━━━━━━━━━━━━━━━━━━━━━━━━━━━━━━━━\u001b[0m \u001b[32m1.2/1.2 MB\u001b[0m \u001b[31m60.1 MB/s\u001b[0m eta \u001b[36m0:00:00\u001b[0m\n",
            "\u001b[2K   \u001b[90m━━━━━━━━━━━━━━━━━━━━━━━━━━━━━━━━━━━━━━━━\u001b[0m \u001b[32m87.5/87.5 kB\u001b[0m \u001b[31m8.5 MB/s\u001b[0m eta \u001b[36m0:00:00\u001b[0m\n",
            "\u001b[2K     \u001b[90m━━━━━━━━━━━━━━━━━━━━━━━━━━━━━━━━━━━━━━━━\u001b[0m \u001b[32m981.5/981.5 kB\u001b[0m \u001b[31m23.1 MB/s\u001b[0m eta \u001b[36m0:00:00\u001b[0m\n",
            "\u001b[?25h  Preparing metadata (setup.py) ... \u001b[?25l\u001b[?25hdone\n",
            "\u001b[2K     \u001b[90m━━━━━━━━━━━━━━━━━━━━━━━━━━━━━━━━━━━━━━━━\u001b[0m \u001b[32m149.4/149.4 kB\u001b[0m \u001b[31m13.9 MB/s\u001b[0m eta \u001b[36m0:00:00\u001b[0m\n",
            "\u001b[2K   \u001b[90m━━━━━━━━━━━━━━━━━━━━━━━━━━━━━━━━━━━━━━━━\u001b[0m \u001b[32m1.7/1.7 MB\u001b[0m \u001b[31m69.8 MB/s\u001b[0m eta \u001b[36m0:00:00\u001b[0m\n",
            "\u001b[2K   \u001b[90m━━━━━━━━━━━━━━━━━━━━━━━━━━━━━━━━━━━━━━━━\u001b[0m \u001b[32m5.6/5.6 MB\u001b[0m \u001b[31m113.3 MB/s\u001b[0m eta \u001b[36m0:00:00\u001b[0m\n",
            "\u001b[2K   \u001b[90m━━━━━━━━━━━━━━━━━━━━━━━━━━━━━━━━━━━━━━━━\u001b[0m \u001b[32m20.0/20.0 MB\u001b[0m \u001b[31m72.8 MB/s\u001b[0m eta \u001b[36m0:00:00\u001b[0m\n",
            "\u001b[2K   \u001b[90m━━━━━━━━━━━━━━━━━━━━━━━━━━━━━━━━━━━━━━━━\u001b[0m \u001b[32m586.9/586.9 kB\u001b[0m \u001b[31m43.2 MB/s\u001b[0m eta \u001b[36m0:00:00\u001b[0m\n",
            "\u001b[2K   \u001b[90m━━━━━━━━━━━━━━━━━━━━━━━━━━━━━━━━━━━━━━━━\u001b[0m \u001b[32m274.9/274.9 kB\u001b[0m \u001b[31m21.9 MB/s\u001b[0m eta \u001b[36m0:00:00\u001b[0m\n",
            "\u001b[2K   \u001b[90m━━━━━━━━━━━━━━━━━━━━━━━━━━━━━━━━━━━━━━━━\u001b[0m \u001b[32m3.1/3.1 MB\u001b[0m \u001b[31m100.3 MB/s\u001b[0m eta \u001b[36m0:00:00\u001b[0m\n",
            "\u001b[2K   \u001b[90m━━━━━━━━━━━━━━━━━━━━━━━━━━━━━━━━━━━━━━━━\u001b[0m \u001b[32m62.9/62.9 kB\u001b[0m \u001b[31m6.0 MB/s\u001b[0m eta \u001b[36m0:00:00\u001b[0m\n",
            "\u001b[2K   \u001b[90m━━━━━━━━━━━━━━━━━━━━━━━━━━━━━━━━━━━━━━━━\u001b[0m \u001b[32m48.9/48.9 kB\u001b[0m \u001b[31m4.5 MB/s\u001b[0m eta \u001b[36m0:00:00\u001b[0m\n",
            "\u001b[2K   \u001b[90m━━━━━━━━━━━━━━━━━━━━━━━━━━━━━━━━━━━━━━━━\u001b[0m \u001b[32m434.9/434.9 kB\u001b[0m \u001b[31m3.1 MB/s\u001b[0m eta \u001b[36m0:00:00\u001b[0m\n",
            "\u001b[2K   \u001b[90m━━━━━━━━━━━━━━━━━━━━━━━━━━━━━━━━━━━━━━━━\u001b[0m \u001b[32m2.1/2.1 MB\u001b[0m \u001b[31m81.7 MB/s\u001b[0m eta \u001b[36m0:00:00\u001b[0m\n",
            "\u001b[2K   \u001b[90m━━━━━━━━━━━━━━━━━━━━━━━━━━━━━━━━━━━━━━━━\u001b[0m \u001b[32m298.0/298.0 kB\u001b[0m \u001b[31m27.1 MB/s\u001b[0m eta \u001b[36m0:00:00\u001b[0m\n",
            "\u001b[2K   \u001b[90m━━━━━━━━━━━━━━━━━━━━━━━━━━━━━━━━━━━━━━━━\u001b[0m \u001b[32m114.6/114.6 kB\u001b[0m \u001b[31m11.8 MB/s\u001b[0m eta \u001b[36m0:00:00\u001b[0m\n",
            "\u001b[?25h  Building wheel for langdetect (setup.py) ... \u001b[?25l\u001b[?25hdone\n",
            "Reading package lists... Done\n",
            "Building dependency tree... Done\n",
            "Reading state information... Done\n",
            "The following additional packages will be installed:\n",
            "  libarchive-dev libleptonica-dev tesseract-ocr-eng tesseract-ocr-osd\n",
            "The following NEW packages will be installed:\n",
            "  libarchive-dev libleptonica-dev libtesseract-dev poppler-utils tesseract-ocr tesseract-ocr-eng\n",
            "  tesseract-ocr-osd\n",
            "0 upgraded, 7 newly installed, 0 to remove and 49 not upgraded.\n",
            "Need to get 8,746 kB of archives.\n",
            "After this operation, 32.3 MB of additional disk space will be used.\n",
            "Get:1 http://archive.ubuntu.com/ubuntu jammy-updates/main amd64 libarchive-dev amd64 3.6.0-1ubuntu1.3 [581 kB]\n",
            "Get:2 http://archive.ubuntu.com/ubuntu jammy/universe amd64 libleptonica-dev amd64 1.82.0-3build1 [1,562 kB]\n",
            "Get:3 http://archive.ubuntu.com/ubuntu jammy/universe amd64 libtesseract-dev amd64 4.1.1-2.1build1 [1,600 kB]\n",
            "Get:4 http://archive.ubuntu.com/ubuntu jammy-updates/main amd64 poppler-utils amd64 22.02.0-2ubuntu0.5 [186 kB]\n",
            "Get:5 http://archive.ubuntu.com/ubuntu jammy/universe amd64 tesseract-ocr-eng all 1:4.00~git30-7274cfa-1.1 [1,591 kB]\n",
            "Get:6 http://archive.ubuntu.com/ubuntu jammy/universe amd64 tesseract-ocr-osd all 1:4.00~git30-7274cfa-1.1 [2,990 kB]\n",
            "Get:7 http://archive.ubuntu.com/ubuntu jammy/universe amd64 tesseract-ocr amd64 4.1.1-2.1build1 [236 kB]\n",
            "Fetched 8,746 kB in 1s (10.2 MB/s)\n",
            "Selecting previously unselected package libarchive-dev:amd64.\n",
            "(Reading database ... 123634 files and directories currently installed.)\n",
            "Preparing to unpack .../0-libarchive-dev_3.6.0-1ubuntu1.3_amd64.deb ...\n",
            "Unpacking libarchive-dev:amd64 (3.6.0-1ubuntu1.3) ...\n",
            "Selecting previously unselected package libleptonica-dev.\n",
            "Preparing to unpack .../1-libleptonica-dev_1.82.0-3build1_amd64.deb ...\n",
            "Unpacking libleptonica-dev (1.82.0-3build1) ...\n",
            "Selecting previously unselected package libtesseract-dev:amd64.\n",
            "Preparing to unpack .../2-libtesseract-dev_4.1.1-2.1build1_amd64.deb ...\n",
            "Unpacking libtesseract-dev:amd64 (4.1.1-2.1build1) ...\n",
            "Selecting previously unselected package poppler-utils.\n",
            "Preparing to unpack .../3-poppler-utils_22.02.0-2ubuntu0.5_amd64.deb ...\n",
            "Unpacking poppler-utils (22.02.0-2ubuntu0.5) ...\n",
            "Selecting previously unselected package tesseract-ocr-eng.\n",
            "Preparing to unpack .../4-tesseract-ocr-eng_1%3a4.00~git30-7274cfa-1.1_all.deb ...\n",
            "Unpacking tesseract-ocr-eng (1:4.00~git30-7274cfa-1.1) ...\n",
            "Selecting previously unselected package tesseract-ocr-osd.\n",
            "Preparing to unpack .../5-tesseract-ocr-osd_1%3a4.00~git30-7274cfa-1.1_all.deb ...\n",
            "Unpacking tesseract-ocr-osd (1:4.00~git30-7274cfa-1.1) ...\n",
            "Selecting previously unselected package tesseract-ocr.\n",
            "Preparing to unpack .../6-tesseract-ocr_4.1.1-2.1build1_amd64.deb ...\n",
            "Unpacking tesseract-ocr (4.1.1-2.1build1) ...\n",
            "Setting up tesseract-ocr-eng (1:4.00~git30-7274cfa-1.1) ...\n",
            "Setting up libleptonica-dev (1.82.0-3build1) ...\n",
            "Setting up libarchive-dev:amd64 (3.6.0-1ubuntu1.3) ...\n",
            "Setting up tesseract-ocr-osd (1:4.00~git30-7274cfa-1.1) ...\n",
            "Setting up poppler-utils (22.02.0-2ubuntu0.5) ...\n",
            "Setting up libtesseract-dev:amd64 (4.1.1-2.1build1) ...\n",
            "Setting up tesseract-ocr (4.1.1-2.1build1) ...\n",
            "Processing triggers for man-db (2.10.2-1) ...\n",
            "\u001b[2K   \u001b[90m━━━━━━━━━━━━━━━━━━━━━━━━━━━━━━━━━━━━━━━━\u001b[0m \u001b[32m2.5/2.5 MB\u001b[0m \u001b[31m44.0 MB/s\u001b[0m eta \u001b[36m0:00:00\u001b[0m\n",
            "\u001b[2K   \u001b[90m━━━━━━━━━━━━━━━━━━━━━━━━━━━━━━━━━━━━━━━━\u001b[0m \u001b[32m1.0/1.0 MB\u001b[0m \u001b[31m62.9 MB/s\u001b[0m eta \u001b[36m0:00:00\u001b[0m\n",
            "\u001b[2K   \u001b[90m━━━━━━━━━━━━━━━━━━━━━━━━━━━━━━━━━━━━━━━━\u001b[0m \u001b[32m411.6/411.6 kB\u001b[0m \u001b[31m29.6 MB/s\u001b[0m eta \u001b[36m0:00:00\u001b[0m\n",
            "\u001b[2K     \u001b[90m━━━━━━━━━━━━━━━━━━━━━━━━━━━━━━━━━━━━━━━━\u001b[0m \u001b[32m67.3/67.3 kB\u001b[0m \u001b[31m4.4 MB/s\u001b[0m eta \u001b[36m0:00:00\u001b[0m\n",
            "\u001b[?25h  Installing build dependencies ... \u001b[?25l\u001b[?25hdone\n",
            "  Getting requirements to build wheel ... \u001b[?25l\u001b[?25hdone\n",
            "  Preparing metadata (pyproject.toml) ... \u001b[?25l\u001b[?25hdone\n",
            "\u001b[2K   \u001b[90m━━━━━━━━━━━━━━━━━━━━━━━━━━━━━━━━━━━━━━━━\u001b[0m \u001b[32m605.5/605.5 kB\u001b[0m \u001b[31m20.8 MB/s\u001b[0m eta \u001b[36m0:00:00\u001b[0m\n",
            "\u001b[2K   \u001b[90m━━━━━━━━━━━━━━━━━━━━━━━━━━━━━━━━━━━━━━━━\u001b[0m \u001b[32m2.4/2.4 MB\u001b[0m \u001b[31m64.2 MB/s\u001b[0m eta \u001b[36m0:00:00\u001b[0m\n",
            "\u001b[2K   \u001b[90m━━━━━━━━━━━━━━━━━━━━━━━━━━━━━━━━━━━━━━━━\u001b[0m \u001b[32m27.5/27.5 MB\u001b[0m \u001b[31m75.4 MB/s\u001b[0m eta \u001b[36m0:00:00\u001b[0m\n",
            "\u001b[2K   \u001b[90m━━━━━━━━━━━━━━━━━━━━━━━━━━━━━━━━━━━━━━━━\u001b[0m \u001b[32m278.6/278.6 kB\u001b[0m \u001b[31m24.2 MB/s\u001b[0m eta \u001b[36m0:00:00\u001b[0m\n",
            "\u001b[2K   \u001b[90m━━━━━━━━━━━━━━━━━━━━━━━━━━━━━━━━━━━━━━━━\u001b[0m \u001b[32m94.8/94.8 kB\u001b[0m \u001b[31m9.5 MB/s\u001b[0m eta \u001b[36m0:00:00\u001b[0m\n",
            "\u001b[2K   \u001b[90m━━━━━━━━━━━━━━━━━━━━━━━━━━━━━━━━━━━━━━━━\u001b[0m \u001b[32m1.9/1.9 MB\u001b[0m \u001b[31m82.9 MB/s\u001b[0m eta \u001b[36m0:00:00\u001b[0m\n",
            "\u001b[2K   \u001b[90m━━━━━━━━━━━━━━━━━━━━━━━━━━━━━━━━━━━━━━━━\u001b[0m \u001b[32m93.2/93.2 kB\u001b[0m \u001b[31m8.9 MB/s\u001b[0m eta \u001b[36m0:00:00\u001b[0m\n",
            "\u001b[2K   \u001b[90m━━━━━━━━━━━━━━━━━━━━━━━━━━━━━━━━━━━━━━━━\u001b[0m \u001b[32m13.3/13.3 MB\u001b[0m \u001b[31m53.7 MB/s\u001b[0m eta \u001b[36m0:00:00\u001b[0m\n",
            "\u001b[2K   \u001b[90m━━━━━━━━━━━━━━━━━━━━━━━━━━━━━━━━━━━━━━━━\u001b[0m \u001b[32m55.8/55.8 kB\u001b[0m \u001b[31m5.4 MB/s\u001b[0m eta \u001b[36m0:00:00\u001b[0m\n",
            "\u001b[2K   \u001b[90m━━━━━━━━━━━━━━━━━━━━━━━━━━━━━━━━━━━━━━━━\u001b[0m \u001b[32m54.9/54.9 kB\u001b[0m \u001b[31m4.8 MB/s\u001b[0m eta \u001b[36m0:00:00\u001b[0m\n",
            "\u001b[2K   \u001b[90m━━━━━━━━━━━━━━━━━━━━━━━━━━━━━━━━━━━━━━━━\u001b[0m \u001b[32m62.3/62.3 kB\u001b[0m \u001b[31m5.7 MB/s\u001b[0m eta \u001b[36m0:00:00\u001b[0m\n",
            "\u001b[2K   \u001b[90m━━━━━━━━━━━━━━━━━━━━━━━━━━━━━━━━━━━━━━━━\u001b[0m \u001b[32m442.1/442.1 kB\u001b[0m \u001b[31m32.0 MB/s\u001b[0m eta \u001b[36m0:00:00\u001b[0m\n",
            "\u001b[2K   \u001b[90m━━━━━━━━━━━━━━━━━━━━━━━━━━━━━━━━━━━━━━━━\u001b[0m \u001b[32m319.7/319.7 kB\u001b[0m \u001b[31m29.0 MB/s\u001b[0m eta \u001b[36m0:00:00\u001b[0m\n",
            "\u001b[2K   \u001b[90m━━━━━━━━━━━━━━━━━━━━━━━━━━━━━━━━━━━━━━━━\u001b[0m \u001b[32m73.2/73.2 kB\u001b[0m \u001b[31m6.3 MB/s\u001b[0m eta \u001b[36m0:00:00\u001b[0m\n",
            "\u001b[2K   \u001b[90m━━━━━━━━━━━━━━━━━━━━━━━━━━━━━━━━━━━━━━━━\u001b[0m \u001b[32m3.8/3.8 MB\u001b[0m \u001b[31m75.9 MB/s\u001b[0m eta \u001b[36m0:00:00\u001b[0m\n",
            "\u001b[2K   \u001b[90m━━━━━━━━━━━━━━━━━━━━━━━━━━━━━━━━━━━━━━━━\u001b[0m \u001b[32m443.8/443.8 kB\u001b[0m \u001b[31m35.6 MB/s\u001b[0m eta \u001b[36m0:00:00\u001b[0m\n",
            "\u001b[2K   \u001b[90m━━━━━━━━━━━━━━━━━━━━━━━━━━━━━━━━━━━━━━━━\u001b[0m \u001b[32m46.0/46.0 kB\u001b[0m \u001b[31m4.0 MB/s\u001b[0m eta \u001b[36m0:00:00\u001b[0m\n",
            "\u001b[2K   \u001b[90m━━━━━━━━━━━━━━━━━━━━━━━━━━━━━━━━━━━━━━━━\u001b[0m \u001b[32m86.8/86.8 kB\u001b[0m \u001b[31m8.3 MB/s\u001b[0m eta \u001b[36m0:00:00\u001b[0m\n",
            "\u001b[?25h  Building wheel for pypika (pyproject.toml) ... \u001b[?25l\u001b[?25hdone\n",
            "\u001b[31mERROR: pip's dependency resolver does not currently take into account all the packages that are installed. This behaviour is the source of the following dependency conflicts.\n",
            "tensorflow 2.17.1 requires protobuf!=4.21.0,!=4.21.1,!=4.21.2,!=4.21.3,!=4.21.4,!=4.21.5,<5.0.0dev,>=3.20.3, but you have protobuf 5.29.2 which is incompatible.\n",
            "tensorflow-metadata 1.13.1 requires protobuf<5,>=3.20.3, but you have protobuf 5.29.2 which is incompatible.\u001b[0m\u001b[31m\n",
            "\u001b[2K   \u001b[90m━━━━━━━━━━━━━━━━━━━━━━━━━━━━━━━━━━━━━━━━\u001b[0m \u001b[32m41.3/41.3 kB\u001b[0m \u001b[31m2.4 MB/s\u001b[0m eta \u001b[36m0:00:00\u001b[0m\n",
            "\u001b[?25h"
          ]
        }
      ],
      "source": [
        "!pip -q install langchain huggingface_hub pinecone pinecone_client tiktoken\n",
        "!pip -q install -U unstructured pdfminer.six pymupdf sentence_transformers\n",
        "!pip -q install pytesseract pdf2image Pillow\n",
        "!apt-get install -y tesseract-ocr libtesseract-dev poppler-utils\n",
        "!pip -q install pytesseract langchain_community\n",
        "!pip -q install chromadb faiss-cpu\n",
        "!pip -q install langchain-google-genai\n",
        "!pip -q install google-generativeai"
      ]
    },
    {
      "cell_type": "markdown",
      "source": [
        "### Before starting the project 1st we will ensure that the drive is mounted or not and also we are using \"cuda\" as a device for the faster outcome"
      ],
      "metadata": {
        "id": "yWxkf_oDFz_L"
      }
    },
    {
      "cell_type": "markdown",
      "source": [
        "## importing the required Libraries"
      ],
      "metadata": {
        "id": "AghEvAvpwzdv"
      }
    },
    {
      "cell_type": "code",
      "source": [
        "from langchain.document_loaders import PyPDFDirectoryLoader\n",
        "from langchain.vectorstores import Pinecone\n",
        "from langchain.prompts import PromptTemplate\n",
        "from langchain.vectorstores import Chroma"
      ],
      "metadata": {
        "id": "JgXy9awJwyfE"
      },
      "execution_count": 2,
      "outputs": []
    },
    {
      "cell_type": "code",
      "source": [
        "from langchain_core.prompts import ChatPromptTemplate\n",
        "from langchain_core.output_parsers import StrOutputParser\n",
        "from langchain_core.runnables import RunnablePassthrough"
      ],
      "metadata": {
        "id": "rvRrUaRaeBKz"
      },
      "execution_count": 6,
      "outputs": []
    },
    {
      "cell_type": "markdown",
      "source": [
        "#### Now load the document that you want for the Context"
      ],
      "metadata": {
        "id": "JteTPbQXGPXx"
      }
    },
    {
      "cell_type": "code",
      "source": [
        "from google.colab import drive\n",
        "drive.mount('/content/drive')"
      ],
      "metadata": {
        "colab": {
          "base_uri": "https://localhost:8080/"
        },
        "id": "7dWgIMGSHbLp",
        "outputId": "47e28bc0-2f26-4d6e-8466-6cf9bb3e0e71"
      },
      "execution_count": 14,
      "outputs": [
        {
          "output_type": "stream",
          "name": "stdout",
          "text": [
            "Mounted at /content/drive\n"
          ]
        }
      ]
    },
    {
      "cell_type": "code",
      "source": [
        "path = \"/content/drive/MyDrive/Internship projects/Sample Set/docs1\"\n",
        "document = PyPDFDirectoryLoader(path)\n",
        "data = document.load()"
      ],
      "metadata": {
        "id": "OoLT7T-bwDgb"
      },
      "execution_count": 15,
      "outputs": []
    },
    {
      "cell_type": "code",
      "source": [
        "len(data)"
      ],
      "metadata": {
        "colab": {
          "base_uri": "https://localhost:8080/"
        },
        "id": "4DUSbfr3y2eY",
        "outputId": "eb8f722d-809c-492f-9d44-018fdffc0d74"
      },
      "execution_count": 16,
      "outputs": [
        {
          "output_type": "execute_result",
          "data": {
            "text/plain": [
              "451"
            ]
          },
          "metadata": {},
          "execution_count": 16
        }
      ]
    },
    {
      "cell_type": "markdown",
      "source": [
        "#### Text Splitting"
      ],
      "metadata": {
        "id": "DB_V26aEGag7"
      }
    },
    {
      "cell_type": "code",
      "source": [
        "from langchain.text_splitter import RecursiveCharacterTextSplitter\n",
        "\n",
        "splitter = RecursiveCharacterTextSplitter(chunk_size = 512 , chunk_overlap = 150, length_function = len , is_separator_regex = False)\n",
        "chunks = [splitter.split_text(doc.page_content) for doc in data]\n",
        "flat_chunks = [chunk for sublist in chunks for chunk in sublist]\n"
      ],
      "metadata": {
        "id": "UADtFLTm2gXq"
      },
      "execution_count": 17,
      "outputs": []
    },
    {
      "cell_type": "code",
      "source": [
        "splitter1 = RecursiveCharacterTextSplitter(chunk_size=800,\n",
        "                                          chunk_overlap=100)\n",
        "chunk = splitter1.split_documents(data)"
      ],
      "metadata": {
        "id": "cLTmaBSaFU_A"
      },
      "execution_count": 18,
      "outputs": []
    },
    {
      "cell_type": "code",
      "source": [
        "import pandas as pd\n",
        "\n",
        "df = pd.DataFrame(flat_chunks , columns = ['vectors'])\n",
        "df"
      ],
      "metadata": {
        "id": "LDNmFFCO6YSY",
        "colab": {
          "base_uri": "https://localhost:8080/",
          "height": 424
        },
        "outputId": "c19e9d6a-80aa-4b0d-8cfa-4d82bc0ede77"
      },
      "execution_count": 19,
      "outputs": [
        {
          "output_type": "execute_result",
          "data": {
            "text/plain": [
              "                                                vectors\n",
              "0     June 2023 GM1039E1-6 Edition 1\\nFUJIFILM Busin...\n",
              "1     2 1   Preface\\n1 Preface\\nThis reference guide...\n",
              "2     Refer\\n Refer to \"Logging in to Authenticatio...\n",
              "3     can be acquired from our official website.\\nht...\n",
              "4     32.1   Administrator Information\\n2 Setup\\n2.1...\n",
              "...                                                 ...\n",
              "1537                                    44 5   Appendix\n",
              "1538  455.2   Safety Notes\\nSymbols Marked on the Ma...\n",
              "1539  DO NOT THROW \\nWASTE TONER \\nCONTAINER INTO \\n...\n",
              "1540  CURLED PAPER\\nDO NOT USE INK \\nJET PRINTER \\nP...\n",
              "1541  46 5   Appendix\\nCAUTION (HEAVY \\nOBJECT)\\nRIS...\n",
              "\n",
              "[1542 rows x 1 columns]"
            ],
            "text/html": [
              "\n",
              "  <div id=\"df-d91935f9-be16-4d4c-8bfd-92ebeba9d3d2\" class=\"colab-df-container\">\n",
              "    <div>\n",
              "<style scoped>\n",
              "    .dataframe tbody tr th:only-of-type {\n",
              "        vertical-align: middle;\n",
              "    }\n",
              "\n",
              "    .dataframe tbody tr th {\n",
              "        vertical-align: top;\n",
              "    }\n",
              "\n",
              "    .dataframe thead th {\n",
              "        text-align: right;\n",
              "    }\n",
              "</style>\n",
              "<table border=\"1\" class=\"dataframe\">\n",
              "  <thead>\n",
              "    <tr style=\"text-align: right;\">\n",
              "      <th></th>\n",
              "      <th>vectors</th>\n",
              "    </tr>\n",
              "  </thead>\n",
              "  <tbody>\n",
              "    <tr>\n",
              "      <th>0</th>\n",
              "      <td>June 2023 GM1039E1-6 Edition 1\\nFUJIFILM Busin...</td>\n",
              "    </tr>\n",
              "    <tr>\n",
              "      <th>1</th>\n",
              "      <td>2 1   Preface\\n1 Preface\\nThis reference guide...</td>\n",
              "    </tr>\n",
              "    <tr>\n",
              "      <th>2</th>\n",
              "      <td>Refer\\n Refer to \"Logging in to Authenticatio...</td>\n",
              "    </tr>\n",
              "    <tr>\n",
              "      <th>3</th>\n",
              "      <td>can be acquired from our official website.\\nht...</td>\n",
              "    </tr>\n",
              "    <tr>\n",
              "      <th>4</th>\n",
              "      <td>32.1   Administrator Information\\n2 Setup\\n2.1...</td>\n",
              "    </tr>\n",
              "    <tr>\n",
              "      <th>...</th>\n",
              "      <td>...</td>\n",
              "    </tr>\n",
              "    <tr>\n",
              "      <th>1537</th>\n",
              "      <td>44 5   Appendix</td>\n",
              "    </tr>\n",
              "    <tr>\n",
              "      <th>1538</th>\n",
              "      <td>455.2   Safety Notes\\nSymbols Marked on the Ma...</td>\n",
              "    </tr>\n",
              "    <tr>\n",
              "      <th>1539</th>\n",
              "      <td>DO NOT THROW \\nWASTE TONER \\nCONTAINER INTO \\n...</td>\n",
              "    </tr>\n",
              "    <tr>\n",
              "      <th>1540</th>\n",
              "      <td>CURLED PAPER\\nDO NOT USE INK \\nJET PRINTER \\nP...</td>\n",
              "    </tr>\n",
              "    <tr>\n",
              "      <th>1541</th>\n",
              "      <td>46 5   Appendix\\nCAUTION (HEAVY \\nOBJECT)\\nRIS...</td>\n",
              "    </tr>\n",
              "  </tbody>\n",
              "</table>\n",
              "<p>1542 rows × 1 columns</p>\n",
              "</div>\n",
              "    <div class=\"colab-df-buttons\">\n",
              "\n",
              "  <div class=\"colab-df-container\">\n",
              "    <button class=\"colab-df-convert\" onclick=\"convertToInteractive('df-d91935f9-be16-4d4c-8bfd-92ebeba9d3d2')\"\n",
              "            title=\"Convert this dataframe to an interactive table.\"\n",
              "            style=\"display:none;\">\n",
              "\n",
              "  <svg xmlns=\"http://www.w3.org/2000/svg\" height=\"24px\" viewBox=\"0 -960 960 960\">\n",
              "    <path d=\"M120-120v-720h720v720H120Zm60-500h600v-160H180v160Zm220 220h160v-160H400v160Zm0 220h160v-160H400v160ZM180-400h160v-160H180v160Zm440 0h160v-160H620v160ZM180-180h160v-160H180v160Zm440 0h160v-160H620v160Z\"/>\n",
              "  </svg>\n",
              "    </button>\n",
              "\n",
              "  <style>\n",
              "    .colab-df-container {\n",
              "      display:flex;\n",
              "      gap: 12px;\n",
              "    }\n",
              "\n",
              "    .colab-df-convert {\n",
              "      background-color: #E8F0FE;\n",
              "      border: none;\n",
              "      border-radius: 50%;\n",
              "      cursor: pointer;\n",
              "      display: none;\n",
              "      fill: #1967D2;\n",
              "      height: 32px;\n",
              "      padding: 0 0 0 0;\n",
              "      width: 32px;\n",
              "    }\n",
              "\n",
              "    .colab-df-convert:hover {\n",
              "      background-color: #E2EBFA;\n",
              "      box-shadow: 0px 1px 2px rgba(60, 64, 67, 0.3), 0px 1px 3px 1px rgba(60, 64, 67, 0.15);\n",
              "      fill: #174EA6;\n",
              "    }\n",
              "\n",
              "    .colab-df-buttons div {\n",
              "      margin-bottom: 4px;\n",
              "    }\n",
              "\n",
              "    [theme=dark] .colab-df-convert {\n",
              "      background-color: #3B4455;\n",
              "      fill: #D2E3FC;\n",
              "    }\n",
              "\n",
              "    [theme=dark] .colab-df-convert:hover {\n",
              "      background-color: #434B5C;\n",
              "      box-shadow: 0px 1px 3px 1px rgba(0, 0, 0, 0.15);\n",
              "      filter: drop-shadow(0px 1px 2px rgba(0, 0, 0, 0.3));\n",
              "      fill: #FFFFFF;\n",
              "    }\n",
              "  </style>\n",
              "\n",
              "    <script>\n",
              "      const buttonEl =\n",
              "        document.querySelector('#df-d91935f9-be16-4d4c-8bfd-92ebeba9d3d2 button.colab-df-convert');\n",
              "      buttonEl.style.display =\n",
              "        google.colab.kernel.accessAllowed ? 'block' : 'none';\n",
              "\n",
              "      async function convertToInteractive(key) {\n",
              "        const element = document.querySelector('#df-d91935f9-be16-4d4c-8bfd-92ebeba9d3d2');\n",
              "        const dataTable =\n",
              "          await google.colab.kernel.invokeFunction('convertToInteractive',\n",
              "                                                    [key], {});\n",
              "        if (!dataTable) return;\n",
              "\n",
              "        const docLinkHtml = 'Like what you see? Visit the ' +\n",
              "          '<a target=\"_blank\" href=https://colab.research.google.com/notebooks/data_table.ipynb>data table notebook</a>'\n",
              "          + ' to learn more about interactive tables.';\n",
              "        element.innerHTML = '';\n",
              "        dataTable['output_type'] = 'display_data';\n",
              "        await google.colab.output.renderOutput(dataTable, element);\n",
              "        const docLink = document.createElement('div');\n",
              "        docLink.innerHTML = docLinkHtml;\n",
              "        element.appendChild(docLink);\n",
              "      }\n",
              "    </script>\n",
              "  </div>\n",
              "\n",
              "\n",
              "<div id=\"df-45fe4d0c-1d44-4de0-bb2f-500848ee4126\">\n",
              "  <button class=\"colab-df-quickchart\" onclick=\"quickchart('df-45fe4d0c-1d44-4de0-bb2f-500848ee4126')\"\n",
              "            title=\"Suggest charts\"\n",
              "            style=\"display:none;\">\n",
              "\n",
              "<svg xmlns=\"http://www.w3.org/2000/svg\" height=\"24px\"viewBox=\"0 0 24 24\"\n",
              "     width=\"24px\">\n",
              "    <g>\n",
              "        <path d=\"M19 3H5c-1.1 0-2 .9-2 2v14c0 1.1.9 2 2 2h14c1.1 0 2-.9 2-2V5c0-1.1-.9-2-2-2zM9 17H7v-7h2v7zm4 0h-2V7h2v10zm4 0h-2v-4h2v4z\"/>\n",
              "    </g>\n",
              "</svg>\n",
              "  </button>\n",
              "\n",
              "<style>\n",
              "  .colab-df-quickchart {\n",
              "      --bg-color: #E8F0FE;\n",
              "      --fill-color: #1967D2;\n",
              "      --hover-bg-color: #E2EBFA;\n",
              "      --hover-fill-color: #174EA6;\n",
              "      --disabled-fill-color: #AAA;\n",
              "      --disabled-bg-color: #DDD;\n",
              "  }\n",
              "\n",
              "  [theme=dark] .colab-df-quickchart {\n",
              "      --bg-color: #3B4455;\n",
              "      --fill-color: #D2E3FC;\n",
              "      --hover-bg-color: #434B5C;\n",
              "      --hover-fill-color: #FFFFFF;\n",
              "      --disabled-bg-color: #3B4455;\n",
              "      --disabled-fill-color: #666;\n",
              "  }\n",
              "\n",
              "  .colab-df-quickchart {\n",
              "    background-color: var(--bg-color);\n",
              "    border: none;\n",
              "    border-radius: 50%;\n",
              "    cursor: pointer;\n",
              "    display: none;\n",
              "    fill: var(--fill-color);\n",
              "    height: 32px;\n",
              "    padding: 0;\n",
              "    width: 32px;\n",
              "  }\n",
              "\n",
              "  .colab-df-quickchart:hover {\n",
              "    background-color: var(--hover-bg-color);\n",
              "    box-shadow: 0 1px 2px rgba(60, 64, 67, 0.3), 0 1px 3px 1px rgba(60, 64, 67, 0.15);\n",
              "    fill: var(--button-hover-fill-color);\n",
              "  }\n",
              "\n",
              "  .colab-df-quickchart-complete:disabled,\n",
              "  .colab-df-quickchart-complete:disabled:hover {\n",
              "    background-color: var(--disabled-bg-color);\n",
              "    fill: var(--disabled-fill-color);\n",
              "    box-shadow: none;\n",
              "  }\n",
              "\n",
              "  .colab-df-spinner {\n",
              "    border: 2px solid var(--fill-color);\n",
              "    border-color: transparent;\n",
              "    border-bottom-color: var(--fill-color);\n",
              "    animation:\n",
              "      spin 1s steps(1) infinite;\n",
              "  }\n",
              "\n",
              "  @keyframes spin {\n",
              "    0% {\n",
              "      border-color: transparent;\n",
              "      border-bottom-color: var(--fill-color);\n",
              "      border-left-color: var(--fill-color);\n",
              "    }\n",
              "    20% {\n",
              "      border-color: transparent;\n",
              "      border-left-color: var(--fill-color);\n",
              "      border-top-color: var(--fill-color);\n",
              "    }\n",
              "    30% {\n",
              "      border-color: transparent;\n",
              "      border-left-color: var(--fill-color);\n",
              "      border-top-color: var(--fill-color);\n",
              "      border-right-color: var(--fill-color);\n",
              "    }\n",
              "    40% {\n",
              "      border-color: transparent;\n",
              "      border-right-color: var(--fill-color);\n",
              "      border-top-color: var(--fill-color);\n",
              "    }\n",
              "    60% {\n",
              "      border-color: transparent;\n",
              "      border-right-color: var(--fill-color);\n",
              "    }\n",
              "    80% {\n",
              "      border-color: transparent;\n",
              "      border-right-color: var(--fill-color);\n",
              "      border-bottom-color: var(--fill-color);\n",
              "    }\n",
              "    90% {\n",
              "      border-color: transparent;\n",
              "      border-bottom-color: var(--fill-color);\n",
              "    }\n",
              "  }\n",
              "</style>\n",
              "\n",
              "  <script>\n",
              "    async function quickchart(key) {\n",
              "      const quickchartButtonEl =\n",
              "        document.querySelector('#' + key + ' button');\n",
              "      quickchartButtonEl.disabled = true;  // To prevent multiple clicks.\n",
              "      quickchartButtonEl.classList.add('colab-df-spinner');\n",
              "      try {\n",
              "        const charts = await google.colab.kernel.invokeFunction(\n",
              "            'suggestCharts', [key], {});\n",
              "      } catch (error) {\n",
              "        console.error('Error during call to suggestCharts:', error);\n",
              "      }\n",
              "      quickchartButtonEl.classList.remove('colab-df-spinner');\n",
              "      quickchartButtonEl.classList.add('colab-df-quickchart-complete');\n",
              "    }\n",
              "    (() => {\n",
              "      let quickchartButtonEl =\n",
              "        document.querySelector('#df-45fe4d0c-1d44-4de0-bb2f-500848ee4126 button');\n",
              "      quickchartButtonEl.style.display =\n",
              "        google.colab.kernel.accessAllowed ? 'block' : 'none';\n",
              "    })();\n",
              "  </script>\n",
              "</div>\n",
              "\n",
              "  <div id=\"id_c36e612b-360d-4b52-946b-9416671cff0d\">\n",
              "    <style>\n",
              "      .colab-df-generate {\n",
              "        background-color: #E8F0FE;\n",
              "        border: none;\n",
              "        border-radius: 50%;\n",
              "        cursor: pointer;\n",
              "        display: none;\n",
              "        fill: #1967D2;\n",
              "        height: 32px;\n",
              "        padding: 0 0 0 0;\n",
              "        width: 32px;\n",
              "      }\n",
              "\n",
              "      .colab-df-generate:hover {\n",
              "        background-color: #E2EBFA;\n",
              "        box-shadow: 0px 1px 2px rgba(60, 64, 67, 0.3), 0px 1px 3px 1px rgba(60, 64, 67, 0.15);\n",
              "        fill: #174EA6;\n",
              "      }\n",
              "\n",
              "      [theme=dark] .colab-df-generate {\n",
              "        background-color: #3B4455;\n",
              "        fill: #D2E3FC;\n",
              "      }\n",
              "\n",
              "      [theme=dark] .colab-df-generate:hover {\n",
              "        background-color: #434B5C;\n",
              "        box-shadow: 0px 1px 3px 1px rgba(0, 0, 0, 0.15);\n",
              "        filter: drop-shadow(0px 1px 2px rgba(0, 0, 0, 0.3));\n",
              "        fill: #FFFFFF;\n",
              "      }\n",
              "    </style>\n",
              "    <button class=\"colab-df-generate\" onclick=\"generateWithVariable('df')\"\n",
              "            title=\"Generate code using this dataframe.\"\n",
              "            style=\"display:none;\">\n",
              "\n",
              "  <svg xmlns=\"http://www.w3.org/2000/svg\" height=\"24px\"viewBox=\"0 0 24 24\"\n",
              "       width=\"24px\">\n",
              "    <path d=\"M7,19H8.4L18.45,9,17,7.55,7,17.6ZM5,21V16.75L18.45,3.32a2,2,0,0,1,2.83,0l1.4,1.43a1.91,1.91,0,0,1,.58,1.4,1.91,1.91,0,0,1-.58,1.4L9.25,21ZM18.45,9,17,7.55Zm-12,3A5.31,5.31,0,0,0,4.9,8.1,5.31,5.31,0,0,0,1,6.5,5.31,5.31,0,0,0,4.9,4.9,5.31,5.31,0,0,0,6.5,1,5.31,5.31,0,0,0,8.1,4.9,5.31,5.31,0,0,0,12,6.5,5.46,5.46,0,0,0,6.5,12Z\"/>\n",
              "  </svg>\n",
              "    </button>\n",
              "    <script>\n",
              "      (() => {\n",
              "      const buttonEl =\n",
              "        document.querySelector('#id_c36e612b-360d-4b52-946b-9416671cff0d button.colab-df-generate');\n",
              "      buttonEl.style.display =\n",
              "        google.colab.kernel.accessAllowed ? 'block' : 'none';\n",
              "\n",
              "      buttonEl.onclick = () => {\n",
              "        google.colab.notebook.generateWithVariable('df');\n",
              "      }\n",
              "      })();\n",
              "    </script>\n",
              "  </div>\n",
              "\n",
              "    </div>\n",
              "  </div>\n"
            ],
            "application/vnd.google.colaboratory.intrinsic+json": {
              "type": "dataframe",
              "variable_name": "df",
              "summary": "{\n  \"name\": \"df\",\n  \"rows\": 1542,\n  \"fields\": [\n    {\n      \"column\": \"vectors\",\n      \"properties\": {\n        \"dtype\": \"string\",\n        \"num_unique_values\": 1533,\n        \"samples\": [\n          \"results.\\n8. If you can adjust correctly, tap on [OK].\\nInput \\u201c+\\u201d value Input \\u201c-\\u201d value\\nDarker\\nLighter\\nDensity\\nAdjustment\\namount\\nDarker\\nLighter\\nDensity\\nAdjustment\\namount\\nIN OUT IN OUT\",\n          \"[Day of week] Select the day of the week to perform automatic updating.\\n[Start time] Specify the time to start automatic updating.\\nNote\\n\\uf06c This setting cannot be changed individually for each importance level.\\n\\uf06c If the machine is not powered on, updating will be performed on the \\nnext update day.\\n[Retry settings] Set retry operations for when updating has failed.\\nNote\\n\\uf06c This setting cannot be changed individually for each importance level \\nfor updates.\",\n          \"Settings] > [Reports].\\n\\uf06c The job flow sheet created with Paperless Fax Settings cannot be edited using Internet Services or Device \\nSetup.\\nPaperless Fax Receiving Settings\\nIt is necessary to log in to Administrator Mode for paperless fax receiving settings.\\n1. Tap on [Paperless Fax Settings].\\n2. Select a line.\\n3. Tap on [(Not Set)] for [Folder].\\n4. Specify [Folder Number].\\n5. When an available folder number is selected, enter a folder name in [Folder Name].\\n6. Tap on [OK].\"\n        ],\n        \"semantic_type\": \"\",\n        \"description\": \"\"\n      }\n    }\n  ]\n}"
            }
          },
          "metadata": {},
          "execution_count": 19
        }
      ]
    },
    {
      "cell_type": "markdown",
      "source": [
        "#### Loading the HuggingFace Embedding Model for creating an Embeddings of chunks that we created Earlier"
      ],
      "metadata": {
        "id": "6UWYZtyOGiSU"
      }
    },
    {
      "cell_type": "markdown",
      "source": [
        "#### This Well known Embedding Model:\"BGE Model\" Which is availbale on HuggingFace"
      ],
      "metadata": {
        "id": "0FvM-g_8Gs-P"
      }
    },
    {
      "cell_type": "code",
      "source": [
        "from langchain.embeddings import HuggingFaceBgeEmbeddings\n",
        "\n",
        "model_name = \"BAAI/bge-small-en-v1.5\"\n",
        "model_kwargs = {'normalize_embeddings' : True}\n",
        "\n",
        "embeddings = HuggingFaceBgeEmbeddings(\n",
        "    model_name = model_name ,\n",
        "    encode_kwargs= model_kwargs,\n",
        "    model_kwargs = {'device':'cuda'},\n",
        ")"
      ],
      "metadata": {
        "collapsed": true,
        "id": "MQZFGNcd3pQv"
      },
      "execution_count": 20,
      "outputs": []
    },
    {
      "cell_type": "markdown",
      "source": [
        "#### Pinecone VectorStore setup (Implemented using Pinecone API-Key)"
      ],
      "metadata": {
        "id": "-x0ZVchVG_qW"
      }
    },
    {
      "cell_type": "markdown",
      "source": [
        "### Now setting up the another retriever \"Chroma\""
      ],
      "metadata": {
        "id": "7AYjMMG9EgCf"
      }
    },
    {
      "cell_type": "code",
      "source": [
        "vectorstore = Chroma.from_documents(chunk, embeddings)"
      ],
      "metadata": {
        "id": "0jG0QAf-BNWt"
      },
      "execution_count": 21,
      "outputs": []
    },
    {
      "cell_type": "code",
      "source": [
        "from langchain.vectorstores import FAISS\n",
        "vectorstore1 = FAISS.from_documents(chunk , embeddings)"
      ],
      "metadata": {
        "id": "5Lt2lRfajOLl"
      },
      "execution_count": 22,
      "outputs": []
    },
    {
      "cell_type": "markdown",
      "source": [
        "#### In HyBrid-RAG we use Ensamble Retreiver which requires Two diffrent retreivers and then it provides output based on the weights we assign to both retreivers"
      ],
      "metadata": {
        "id": "478TSNjCHSbk"
      }
    },
    {
      "cell_type": "code",
      "source": [
        "retriever1 = vectorstore.as_retriever(search_kwargs={\"k\": 3})\n",
        "retriever2 = vectorstore1.as_retriever(search_kwargs={\"k\": 3})\n"
      ],
      "metadata": {
        "id": "hDEx-mp3Mu-j"
      },
      "execution_count": 23,
      "outputs": []
    },
    {
      "cell_type": "markdown",
      "source": [
        "##### so here is the Setup of Pinecone_vecotrstore retreiver and Chromadb_vectorStore retreiver"
      ],
      "metadata": {
        "id": "9Fmodp84H1lF"
      }
    },
    {
      "cell_type": "code",
      "source": [
        "from langchain.retrievers import EnsembleRetriever\n",
        "ensambel_reteriever = EnsembleRetriever(\n",
        "    retrievers = [retriever1 , retriever2],\n",
        "    weight = [0.6,0.4]\n",
        "\n",
        ")"
      ],
      "metadata": {
        "id": "EKCbOTLLkb7n"
      },
      "execution_count": 24,
      "outputs": []
    },
    {
      "cell_type": "markdown",
      "source": [
        "# Gemini LLM setup"
      ],
      "metadata": {
        "id": "DcIO6Tnmv5DO"
      }
    },
    {
      "cell_type": "code",
      "source": [
        "import google.generativeai as genai\n",
        "import os\n",
        "from google.colab import userdata\n",
        "\n",
        "os.environ[\"GOOGLE_API_KEY\"] = userdata.get('GOOGLE_API_KEY')\n",
        "\n",
        "genai.configure(api_key = os.environ[\"GOOGLE_API_KEY\"])"
      ],
      "metadata": {
        "id": "u1kL7ajE4y88"
      },
      "execution_count": 25,
      "outputs": []
    },
    {
      "cell_type": "code",
      "source": [
        "from langchain_google_genai import ChatGoogleGenerativeAI\n",
        "\n",
        "llm = ChatGoogleGenerativeAI( model = 'gemini-1.5-flash' , temperature= 0.7)"
      ],
      "metadata": {
        "id": "pNAzBSKlv4gg"
      },
      "execution_count": 26,
      "outputs": []
    },
    {
      "cell_type": "markdown",
      "source": [
        "# Prompt Template Designing"
      ],
      "metadata": {
        "id": "eMIf-refIHr6"
      }
    },
    {
      "cell_type": "code",
      "source": [
        "from langchain.chains import create_retrieval_chain\n",
        "from langchain.chains.combine_documents import create_stuff_documents_chain\n",
        "\n",
        "template = \"\"\"\n",
        "You are a knowledgeable assistant skilled in providing thorough and accurate responses. Use the provided context to answer the user's question comprehensively. Ensure that your answer covers all relevant aspects and is presented in a clear and organized manner and also try to give a full complete response and the response which is generated it should be visually reperesentable okk .\n",
        "Context:\n",
        "{context}\n",
        "\n",
        "Question:\n",
        "{query}\n",
        "\n",
        "Answer (detailed, with examples if relevant):\n",
        "\"\"\"\n",
        "\n",
        "prompt = ChatPromptTemplate.from_messages(\n",
        "    [\n",
        "        (\"system\" , template),\n",
        "        (\"human\" , '{input}')\n",
        "    ]\n",
        ")\n",
        "\n",
        "output_parser = StrOutputParser()"
      ],
      "metadata": {
        "id": "YzvuYuOVwfTx"
      },
      "execution_count": 27,
      "outputs": []
    },
    {
      "cell_type": "code",
      "source": [
        "from langchain.schema.runnable import RunnableMap"
      ],
      "metadata": {
        "id": "HRkSzgLEN4EY"
      },
      "execution_count": 28,
      "outputs": []
    },
    {
      "cell_type": "code",
      "source": [
        "import logging\n",
        "logging.getLogger(\"langchain_community.vectorstores.pinecone\").setLevel(logging.ERROR)"
      ],
      "metadata": {
        "id": "E3L-COO4QMOJ"
      },
      "execution_count": 29,
      "outputs": []
    },
    {
      "cell_type": "markdown",
      "source": [
        "# Creating A QA Chain using Langchain and combining Prompt , Context and then it provided to LLM"
      ],
      "metadata": {
        "id": "a3f577luIUu7"
      }
    },
    {
      "cell_type": "code",
      "source": [
        "chain = RunnableMap({\n",
        "    \"context\": lambda x: ensambel_reteriever.get_relevant_documents(x[\"query\"]),\n",
        "    \"query\": lambda x: x[\"query\"],\n",
        "    \"input\": lambda x: x[\"query\"]\n",
        "}) | prompt | llm | output_parser\n",
        "\n",
        "# Prepare the input data\n",
        "input_data = {\n",
        "    \"query\": \"tell me how many notations are there in a maunal\"\n",
        "}\n",
        "\n",
        "# Invoke the chain\n",
        "result = chain.invoke(input_data)\n",
        "print(result)"
      ],
      "metadata": {
        "colab": {
          "base_uri": "https://localhost:8080/"
        },
        "id": "ulpOhwrdRkWH",
        "outputId": "0e88b1e0-c006-4b99-c723-58f02d534447"
      },
      "execution_count": 30,
      "outputs": [
        {
          "output_type": "stream",
          "name": "stderr",
          "text": [
            "<ipython-input-30-0c36955fca08>:2: LangChainDeprecationWarning: The method `BaseRetriever.get_relevant_documents` was deprecated in langchain-core 0.1.46 and will be removed in 1.0. Use :meth:`~invoke` instead.\n",
            "  \"context\": lambda x: ensambel_reteriever.get_relevant_documents(x[\"query\"]),\n"
          ]
        },
        {
          "output_type": "stream",
          "name": "stdout",
          "text": [
            "Based on the provided text, there are at least 80 notations listed across pages 17, 18, and 19 of the manual.  These notations cover font names (e.g., Letter Gothic Italic [28], Arial Bold [37], New Century Schoolbook Roman [71]) and character sets/encodings (e.g., ISO 8859-1 Latin 1 [1], PC-850 [8], Windows 3.1 Latin 2 [13]).  The exact total might be higher if other pages of the manual contain additional notations.  The provided excerpts only show a portion of the manual's content.\n",
            "\n"
          ]
        }
      ]
    },
    {
      "cell_type": "code",
      "source": [
        "input_data = {\n",
        "    \"query\":\"can you tell me what the things i should do Before Using the Machine\"\n",
        "}\n",
        "result = chain.invoke(input_data)\n",
        "result"
      ],
      "metadata": {
        "colab": {
          "base_uri": "https://localhost:8080/",
          "height": 209
        },
        "id": "RHg8NvnSSgNj",
        "outputId": "bb18285f-4857-4be4-8c75-b1778f905d96"
      },
      "execution_count": 31,
      "outputs": [
        {
          "output_type": "execute_result",
          "data": {
            "text/plain": [
              "'Before using the machine, you should:\\n\\n1. **Check the Power:** Confirm that the Reset button is in the reset position (pushed in) and that the power plug is securely connected.  If the power doesn\\'t switch on after this, further troubleshooting may be necessary.\\n\\n2. **Wait for Warm-up:** If \"Please wait...\" is displayed on the control panel, the machine is warming up.  Do not attempt to use the machine during this time.\\n\\n3. **Consult the Reference Guide:** For detailed information about the control panel and its functions, refer to the \"Reference Guide - Operations\" document.  This guide will provide a comprehensive overview of the machine\\'s controls and settings.\\n\\n4. **Address Condensation (if applicable):** If condensation has formed inside the machine, set the Sleep Mode trigger time to more than 60 minutes and let the machine run for 60 minutes to allow it to dry. Ensure all water droplets are removed from rollers and metal parts before use.  If condensation is frequent, consider keeping the Warmer Mode switched on via the control panel ([Device]>[System Settings]>[System Clock/Timers]>[Warmer Mode]>[On]).\\n\\n\\nThese steps ensure the machine is properly prepared for use and help prevent potential issues.\\n'"
            ],
            "application/vnd.google.colaboratory.intrinsic+json": {
              "type": "string"
            }
          },
          "metadata": {},
          "execution_count": 31
        }
      ]
    },
    {
      "cell_type": "markdown",
      "source": [
        "Before using the machine, you should:\n",
        "\n",
        "1. **Check the Power:** Confirm that the Reset button is in the reset position (pushed in) and that the power plug is securely connected.  If the power doesn't switch on after this, further troubleshooting may be necessary.\n",
        "\n",
        "2. **Wait for Warm-up:** If \"Please wait...\" is displayed on the control panel, the machine is warming up.  Do not attempt to use the machine during this time.\n",
        "\n",
        "3. **Consult the Reference Guide:** For detailed information about the control panel and its functions, refer to the \"Reference Guide - Operations\" document.  This guide will provide a comprehensive overview of the machine's controls and settings.\n",
        "\n",
        "4. **Address Condensation (if applicable):** If condensation has formed inside the machine, set the Sleep Mode trigger time to more than 60 minutes and let the machine run for 60 minutes to allow it to dry. Ensure all water droplets are removed from rollers and metal parts before use.  If condensation is frequent, consider keeping the Warmer Mode switched on via the control panel ([Device]>[System Settings]>[System Clock/Timers]>[Warmer Mode]>[On]).\n",
        "\n",
        "\n",
        "These steps ensure the machine is properly prepared for use and help prevent potential issues.\n"
      ],
      "metadata": {
        "id": "bdv-ENzmkxem"
      }
    },
    {
      "cell_type": "code",
      "source": [
        "chain.invoke({\"query\":\" tell me step by step process of Paper Tray Settings \"})"
      ],
      "metadata": {
        "colab": {
          "base_uri": "https://localhost:8080/",
          "height": 174
        },
        "id": "6fVtwohlTDiP",
        "outputId": "455fcaf4-1445-4d97-c2ed-86118376c61e"
      },
      "execution_count": 32,
      "outputs": [
        {
          "output_type": "execute_result",
          "data": {
            "text/plain": [
              "\"The provided text describes the paper tray setup process in multiple steps, spread across different documents.  Here's a consolidated, step-by-step guide:\\n\\n\\n**I. Loading Paper:**\\n\\n1. **Access the Paper Tray:** Pull out the paper tray towards you until it stops. (Ref: `rg_optional_2.pdf`, page 4)\\n\\n2. **Clear Existing Paper:** Remove any remaining paper from the tray. (Ref: `rg_optional_2.pdf`, page 4)\\n\\n3. **Adjust Paper Size Guides (If Necessary):**\\n    * **Removing Guides:** If changing paper size, open the end guide, remove the screws securing the guides (front and back), and remove the guides from the tray. (Ref: `rg_optional_2.pdf`, page 4)\\n    * **Inserting Guides:** Insert the guide protrusions into the appropriate paper size holes.  Reattach the guides to the tray and tighten the screws. (Ref: `rg_optional_2.pdf`, page 4)\\n    * **Alternative Adjustment (Optional Units):** For optional units, move the lever at the top of the long-side paper guide to the rightmost position (<I> position) to enable changing.  Reset by moving it to the leftmost position. If accuracy isn't improved, move the lever at the right front to the rearmost position (<I> position). Reset by moving to the foremost position. After use, return the lever to the normal position <o>. (Ref: `rg_optional_2.pdf`, page 15)\\n\\n\\n4. **Load Paper:** Load the paper, ensuring it doesn't exceed the maximum fill line to prevent jams. (Ref: `rg_optional_2.pdf`, page 15)  Images are printed on the face side. (Ref: `rg_optional_2.pdf`, pages 4 and 15)\\n\\n5. **Push in the Tray:** Push the paper tray back into the machine. (Ref: `rg_optional_2.pdf`, page 15)\\n\\n\\n**II. Configuring Paper Tray Settings (on the Home Screen):**\\n\\n1. **Access Settings:**  After loading paper, go to the Home screen. (Ref: `rg_optional_2.pdf`, page 4)\\n\\n2. **Open Paper Tray Settings:** The exact method to access the paper tray settings is not explicitly detailed in the provided text.  It implies a menu or button on the Home Screen.\\n\\n3. **Configure Settings:** You'll now configure the following settings (Ref: `rg_operations_4.pdf`, page 19):\\n\\n    * **[Paper Size]:**\\n        * **[Auto Detect]:** Let the machine automatically detect the paper size.\\n        * **[Manual Size Input]:** Manually enter the paper size.\\n\\n    * **[Paper Type]:** Select the correct paper type.\\n\\n    * **[Paper Color]:** Select the paper color.\\n\\n    * **[Auto Tray Switching]:** Enable or disable automatic tray switching based on user-specified paper or when the current tray runs out of paper.  This setting requires Administrator Mode. (Ref: `rg_operations_4.pdf`, page 19)\\n\\n    * **[Priority] (If Auto Tray Switching is enabled):** Set the priority for this tray if multiple trays are available. This also requires Administrator Mode. (Ref: `rg_operations_4.pdf`, page 19)\\n\\n    * **[Auto Paper Select]:** Set conditions for automatic paper selection. This also requires Administrator Mode. (Ref: `rg_operations_4.pdf`, page 19)\\n\\n4. **Save Settings:** Tap on [OK] to save the configured settings. (Ref: `rg_operations_4.pdf`, page 19)\\n\\n\\n**Important Notes:**\\n\\n* **Administrator Mode:** Several settings require Administrator Mode access.  The provided text doesn't specify how to access this mode.\\n* **Specific Menu Navigation:** The exact location of the Paper Tray Settings menu within the machine's interface is not described.  Consult your machine's user manual for the precise steps.\\n\\n\\nThis comprehensive guide combines information from the provided documents to give a complete picture of the paper tray setup process.  Remember to always refer to your specific machine's user manual for the most accurate and detailed instructions.\\n\""
            ],
            "application/vnd.google.colaboratory.intrinsic+json": {
              "type": "string"
            }
          },
          "metadata": {},
          "execution_count": 32
        }
      ]
    },
    {
      "cell_type": "markdown",
      "source": [
        "The provided text describes the paper tray setup process in multiple steps, spread across different documents.  Here's a consolidated, step-by-step guide:\n",
        "\n",
        "\n",
        "**I. Loading Paper:**\n",
        "\n",
        "1. **Access the Paper Tray:** Pull out the paper tray towards you until it stops. (Ref: `rg_optional_2.pdf`, page 4)\n",
        "\n",
        "2. **Clear Existing Paper:** Remove any remaining paper from the tray. (Ref: `rg_optional_2.pdf`, page 4)\n",
        "\n",
        "3. **Adjust Paper Size Guides (If Necessary):**\n",
        "    * **Removing Guides:** If changing paper size, open the end guide, remove the screws securing the guides (front and back), and remove the guides from the tray. (Ref: `rg_optional_2.pdf`, page 4)\n",
        "    * **Inserting Guides:** Insert the guide protrusions into the appropriate paper size holes.  Reattach the guides to the tray and tighten the screws. (Ref: `rg_optional_2.pdf`, page 4)\n",
        "    * **Alternative Adjustment (Optional Units):** For optional units, move the lever at the top of the long-side paper guide to the rightmost position (<I> position) to enable changing.  Reset by moving it to the leftmost position. If accuracy isn't improved, move the lever at the right front to the rearmost position (<I> position). Reset by moving to the foremost position. After use, return the lever to the normal position <o>. (Ref: `rg_optional_2.pdf`, page 15)\n",
        "\n",
        "\n",
        "4. **Load Paper:** Load the paper, ensuring it doesn't exceed the maximum fill line to prevent jams. (Ref: `rg_optional_2.pdf`, page 15)  Images are printed on the face side. (Ref: `rg_optional_2.pdf`, pages 4 and 15)\n",
        "\n",
        "5. **Push in the Tray:** Push the paper tray back into the machine. (Ref: `rg_optional_2.pdf`, page 15)\n",
        "\n",
        "\n",
        "**II. Configuring Paper Tray Settings (on the Home Screen):**\n",
        "\n",
        "1. **Access Settings:**  After loading paper, go to the Home screen. (Ref: `rg_optional_2.pdf`, page 4)\n",
        "\n",
        "2. **Open Paper Tray Settings:** The exact method to access the paper tray settings is not explicitly detailed in the provided text.  It implies a menu or button on the Home Screen.\n",
        "\n",
        "3. **Configure Settings:** You'll now configure the following settings (Ref: `rg_operations_4.pdf`, page 19):\n",
        "\n",
        "    * **[Paper Size]:**\n",
        "        * **[Auto Detect]:** Let the machine automatically detect the paper size.\n",
        "        * **[Manual Size Input]:** Manually enter the paper size.\n",
        "\n",
        "    * **[Paper Type]:** Select the correct paper type.\n",
        "\n",
        "    * **[Paper Color]:** Select the paper color.\n",
        "\n",
        "    * **[Auto Tray Switching]:** Enable or disable automatic tray switching based on user-specified paper or when the current tray runs out of paper.  This setting requires Administrator Mode. (Ref: `rg_operations_4.pdf`, page 19)\n",
        "\n",
        "    * **[Priority] (If Auto Tray Switching is enabled):** Set the priority for this tray if multiple trays are available. This also requires Administrator Mode. (Ref: `rg_operations_4.pdf`, page 19)\n",
        "\n",
        "    * **[Auto Paper Select]:** Set conditions for automatic paper selection. This also requires Administrator Mode. (Ref: `rg_operations_4.pdf`, page 19)\n",
        "\n",
        "4. **Save Settings:** Tap on [OK] to save the configured settings. (Ref: `rg_operations_4.pdf`, page 19)\n",
        "\n",
        "\n",
        "**Important Notes:**\n",
        "\n",
        "* **Administrator Mode:** Several settings require Administrator Mode access.  The provided text doesn't specify how to access this mode.\n",
        "* **Specific Menu Navigation:** The exact location of the Paper Tray Settings menu within the machine's interface is not described.  Consult your machine's user manual for the precise steps.\n",
        "\n",
        "\n",
        "This comprehensive guide combines information from the provided documents to give a complete picture of the paper tray setup process.  Remember to always refer to your specific machine's user manual for the most accurate and detailed instructions.\n"
      ],
      "metadata": {
        "id": "Ye1_UM8AJJgk"
      }
    },
    {
      "cell_type": "code",
      "source": [],
      "metadata": {
        "id": "kx7YjQpYJGUe"
      },
      "execution_count": null,
      "outputs": []
    }
  ]
}